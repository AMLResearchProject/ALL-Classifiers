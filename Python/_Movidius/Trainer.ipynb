{
 "cells": [
  {
   "cell_type": "markdown",
   "metadata": {},
   "source": [
    "# Convolutional Neural Networks & Transfer Learning For Acute Myeloid Leukemia Classification \n",
    "![Convolutional Neural Networks For Acute Myeloid Leukemia Detection](../../Media/Images/Banner-Social.jpg)\n",
    "\n",
    "\n",
    "# Abstract\n",
    "\n",
    "Acute Myeloid Leukemia (AML) [1] is a rare and very agressive form of Leukemia. With this type of Leukemia early dectection is crucial but as of yet there are no warning signs, there are currently no ways to screen for AML but there are symptoms that give warning [2]. \n",
    "\n",
    "This project shows how we can use transfer learning and existing image classification models to create Deep Learning Models, specifically Inception V3, that can classify positive and negative Acute Myeloid Leukemia positive and negative lymphocytes in images.\n",
    "\n",
    "## Acute Myeloid Leukemia (AML)\n",
    "\n",
    "Despite being one of the most common forms of Leukemia, Acute Myeloid Leukemia (AML) is a still a relatively rare form of Leukemia that is more common in adults, but does affect children also. AML is an agressive Leukemia where white blood cells mutate, attack and replace healthy red blood cells, effectively killing them. \n",
    "\n",
    "\"About 19,520 new cases of acute myeloid leukemia (AML). Most will be in adults (United States).\" [6]\n",
    "\n",
    "In comparrison, there are 180,000 women a year in the United States being diagnosed with Invasive Ductal Carcinoma (IDC), a type of breast cancer which forms in the breast duct and invades the areas surrounding it [7].\n",
    "\n",
    "## Acute Lymphoblastic Leukemia Image Database for Image Processing (ALL-IDB)\n",
    "![Acute Lymphoblastic Leukemia Image Database for Image Processing](Media/Images/slides.png)\n",
    "Figure 3. Samples of augmented data generated from the Acute Lymphoblastic Leukemia Image Database for Image Processing dataset.\n",
    "\n",
    "The Acute Lymphoblastic Leukemia Image Database for Image Processing dataset is used for this project. The dataset was created by Fabio Scotti, Associate Professor Dipartimento di Informatica, Università degli Studi di Milano. Big thanks to Fabio for his research and time put in to creating the dataset and documentation, it is one of his personal projects.\n",
    "\n",
    "\n",
    "## The Acute Myeloid Leukemia (AML) Movidius Classifier\n",
    "\n",
    "The AML Movidius Classifier shows how to train a Convolutional Neural Network using TensorFlow [8] and transfer learning trained on a dataset of Acute Myeloid Leukemia negative and positive images, Acute Lymphoblastic Leukemia Image Database for Image Processing [9]. The Tensorflow model is trained on the AI DevCloud [10] converted to a format compatible with the Movidius NCS by freezing the Tensorflow model and then running it through the NCSDK [11]. The model is then downloaded to an UP Squared, and then used for inference with NCSDK. \n",
    "\n",
    "## Convolutional Neural Networks\n",
    "![Inception v3 architecture](Media/Images/CNN.jpg)\n",
    "Figure 1. Inception v3 architecture ([Source](https://github.com/tensorflow/models/tree/master/research/inception)).\n",
    "\n",
    "Convolutional neural networks are a type of deep learning neural network. These types of neural nets are widely used in computer vision and have pushed the capabilities of computer vision over the last few years, performing exceptionally better than older, more traditional neural networks; however, studies show that there are trade-offs related to training times and accuracy.\n",
    "\n",
    "\n",
    "## Transfer Learning\n",
    "![Inception v3 model diagram](Media/Images/Transfer-Learning.jpg)\n",
    "Figure 2. Inception V3 Transfer Learning ([Source](https://github.com/Hvass-Labs/TensorFlow-Tutorials)).\n",
    "\n",
    "Transfer learning allows you to retrain the final layer of an existing model, resulting in a significant decrease in not only training time, but also the size of the dataset required. One of the most famous models that can be used for transfer learning is the Inception V3 model created by Google This model was trained on thousands of images from 1,001 classes on some very powerful devices. Being able to retrain the final layer means that you can maintain the knowledge that the model had learned during its original training and apply it to your smaller dataset, resulting in highly accurate classifications without the need for extensive training and computational power.\n",
    "\n",
    "\n",
    "# Hardware & Software\n",
    "Through my role as an Intel® Software Innovator, I get access to the latest Intel® technologies that help enhance my projects. In this particular part of the project I Intel® technologies such as Intel® AI DevCloud for data sorting and training and UP Squared with Intel Movidius (NCS) for inference.\n",
    "\n",
    "\n",
    "# Interactive Tutorial\n",
    "This Notebook serves as an interactive tutorial that helps you set up your project, sort your data and train the Convolutional Neural Network.\n",
    "\n",
    "\n",
    "## Prerequisites\n",
    "There are a few steps you need to tae to set up your AI DevCloud project, these steps are outlined below:\n",
    "\n",
    "\n",
    "### - Clone The Github Repo\n",
    "You need to clone the Acute Myeloid Leukemia Classifiers Github repo to your development machine. To do this open up a terminal  and use __git clone__ to clone to the AML Classifiers repo (__https://github.com/AMLResearchProject/AML-Classifiers.git__). Once you have cloned the repo you should nagivate to __AML-Classifiers/Python/_Movidius/__ to find the related code, notebooks and tutorials.\n",
    "\n",
    "###  - Gain Access To ALL-IDB\n",
    "You you need to be granted access to use the Acute Lymphoblastic Leukemia Image Database for Image Processing dataset. You can find the application form and information about getting access to the dataset on [this page](https://homes.di.unimi.it/scotti/all/#download) as well as information on how to contribute back to the project [here](https://homes.di.unimi.it/scotti/all/results.php). If you are not able to obtain a copy of the dataset please feel free to try this tutorial on your own dataset.\n",
    "\n",
    "### - Data Augmentation\n",
    "Assuming you have received permission to use the Acute Lymphoblastic Leukemia Image Database for Image Processing, you should follow the related Notebook first to generate a larger training and testing dataset. Follow the AML Classifier [Data Augmentation Notebook](https://github.com/AMLResearchProject/AML-Classifiers/blob/master/Python/Augmentation.ipynb) to apply various filters to the dataset. If you have not been able to obtain a copy of the dataset please feel free to try this tutorial on your own dataset.\n",
    "\n",
    "Data augmentations included are as follows...\n",
    "\n",
    "Done:\n",
    "- Grayscaling\n",
    "- Histogram Equalization\n",
    "- Reflection\n",
    "- Gaussian Blur\n",
    "- Rotation\n",
    "\n",
    "ToDo:\n",
    "- Shearing\n",
    "- Translation\n",
    "\n",
    "You can follow the progress of the data augmentation system on this [Github issue](https://github.com/AMLResearchProject/AML-Classifiers/issues/1).\n",
    "\n",
    "### - Upload Project To AI DevCloud\n",
    "\n",
    "Now you need to upload the related project from the repo to the AI DevCloud. The directory you need to upload is __AML-Classifiers/Python/_Movidius/__. Once you have uploaded the project structure you need to upload your augmented dataset created in the previous step. Upload your data to the __0__ and __1__ directories in the __Model/Data/__ directory, you should also remove the init files from these directories.\n",
    "\n",
    "Once you have completed the above, navigate to this Notebook and continue the tutorial there. \n",
    "\n",
    "## Prepare The Dataset\n",
    "Assuming you have uploaded your data, you now need to sort the data ready for the training process. \n",
    "\n",
    "### Data Sorting Job\n",
    "You need to create a shell script (provided below) that is used to create a job for sorting your uploaded data on the AI DevCloud. Before you run the following block make sure you have followed all of the steps in __Upload Project To AI DevCloud__ above."
   ]
  },
  {
   "cell_type": "code",
   "execution_count": 2,
   "metadata": {},
   "outputs": [
    {
     "name": "stdout",
     "output_type": "stream",
     "text": [
      "Writing AML-DevCloud-Data\n"
     ]
    }
   ],
   "source": [
    "%%writefile AML-DevCloud-Data\n",
    "cd $PBS_O_WORKDIR\n",
    "echo \"* Compute server `hostname` on the AI DevCloud\"\n",
    "echo \"* Current directory ${PWD}.\"\n",
    "echo \"* Compute server's CPU model and number of logical CPUs:\"\n",
    "lscpu | grep 'Model name\\\\|^CPU(s)'\n",
    "echo \"* Python version:\"\n",
    "export PATH=/glob/intel-python/python3/bin:$PATH;\n",
    "which python\n",
    "python --version\n",
    "echo \"* This job sorts the data for the AML Classifier on AI DevCloud\"\n",
    "python Data.py\n",
    "sleep 10\n",
    "echo \"*Adios\"\n",
    "# Remember to have an empty line at the end of the file; otherwise the last command will not run\n"
   ]
  },
  {
   "cell_type": "markdown",
   "metadata": {},
   "source": [
    "## Check the data sorter job script was created"
   ]
  },
  {
   "cell_type": "code",
   "execution_count": 3,
   "metadata": {},
   "outputs": [
    {
     "name": "stdout",
     "output_type": "stream",
     "text": [
      "AML-DevCloud-Data  Classifier.py  \u001b[0m\u001b[01;34mLogs\u001b[0m/   \u001b[01;34mModel\u001b[0m/     Trainer.ipynb\r\n",
      "\u001b[01;34mClasses\u001b[0m/           Data.py        \u001b[01;34mMedia\u001b[0m/  \u001b[01;34mRequired\u001b[0m/  Trainer.py\r\n"
     ]
    }
   ],
   "source": [
    "%ls"
   ]
  },
  {
   "cell_type": "markdown",
   "metadata": {},
   "source": [
    "## Submit the data sorter job"
   ]
  },
  {
   "cell_type": "code",
   "execution_count": 1,
   "metadata": {},
   "outputs": [
    {
     "name": "stdout",
     "output_type": "stream",
     "text": [
      "8390.c009\r\n"
     ]
    }
   ],
   "source": [
    "!qsub AML-DevCloud-Data"
   ]
  },
  {
   "cell_type": "markdown",
   "metadata": {},
   "source": [
    "## Check the status of the job"
   ]
  },
  {
   "cell_type": "code",
   "execution_count": 2,
   "metadata": {},
   "outputs": [
    {
     "name": "stdout",
     "output_type": "stream",
     "text": [
      "Job ID                    Name             User            Time Use S Queue\r\n",
      "------------------------- ---------------- --------------- -------- - -----\r\n",
      "8389.c009                  ...ub-singleuser u13339          00:00:07 R jupyterhub     \r\n",
      "8390.c009                  ...DevCloud-Data u13339                 0 R batch          \r\n"
     ]
    }
   ],
   "source": [
    "!qstat"
   ]
  },
  {
   "cell_type": "markdown",
   "metadata": {},
   "source": [
    "## Get more details about the job"
   ]
  },
  {
   "cell_type": "code",
   "execution_count": 11,
   "metadata": {},
   "outputs": [
    {
     "name": "stdout",
     "output_type": "stream",
     "text": [
      "qstat: Unknown Job Id Error 8390.c009\r\n"
     ]
    }
   ],
   "source": [
    "!qstat -f 8390"
   ]
  },
  {
   "cell_type": "markdown",
   "metadata": {},
   "source": [
    "## Check for the output files"
   ]
  },
  {
   "cell_type": "code",
   "execution_count": 4,
   "metadata": {},
   "outputs": [
    {
     "name": "stdout",
     "output_type": "stream",
     "text": [
      "AML-DevCloud-Data        \u001b[0m\u001b[01;34mClasses\u001b[0m/       \u001b[01;34mMedia\u001b[0m/         Trainer.py\r\n",
      "AML-DevCloud-Data.e8390  Classifier.py  \u001b[01;34mModel\u001b[0m/\r\n",
      "AML-DevCloud-Data.o8390  Data.py        \u001b[01;34mRequired\u001b[0m/\r\n",
      "AML-DevCloud-Trainer     \u001b[01;34mLogs\u001b[0m/          Trainer.ipynb\r\n"
     ]
    }
   ],
   "source": [
    "%ls"
   ]
  },
  {
   "cell_type": "markdown",
   "metadata": {},
   "source": [
    "You should see similar to the below output in your .0XXXX file, you can ignore the error (.eXXXXX) file in this case unless you are having difficulties in which case this file may have important information.\n",
    "\n",
    "```\n",
    ">> Converting image 347/348 shard 1\n",
    "2018-12-23 08:36:57|convertToTFRecord|INFO: class_name: 0\n",
    "2018-12-23 08:36:57|convertToTFRecord|INFO: class_id: 0\n",
    "\n",
    ">> Converting image 348/348 shard 1\n",
    "2018-12-23 08:36:57|convertToTFRecord|INFO: class_name: 1\n",
    "2018-12-23 08:36:57|convertToTFRecord|INFO: class_id: 1\n",
    "\n",
    "2018-12-23 08:36:57|sortData|COMPLETE: Completed sorting data!\n",
    "*Adios\n",
    "\n",
    "########################################################################\n",
    "# End of output for job 8390.c009\n",
    "# Date: Sun Dec 23 08:37:07 PST 2018\n",
    "########################################################################\n",
    "```"
   ]
  },
  {
   "cell_type": "markdown",
   "metadata": {},
   "source": [
    "# Training job"
   ]
  },
  {
   "cell_type": "markdown",
   "metadata": {},
   "source": [
    "Now it is time to create your training job, the script required for this is almost identical to the above created script, all we need to do is change filename and the commandline argument."
   ]
  },
  {
   "cell_type": "code",
   "execution_count": 10,
   "metadata": {},
   "outputs": [
    {
     "name": "stdout",
     "output_type": "stream",
     "text": [
      "Writing AML-DevCloud-Trainer\n"
     ]
    }
   ],
   "source": [
    "%%writefile AML-DevCloud-Trainer\n",
    "cd $PBS_O_WORKDIR\n",
    "echo \"* Hello world from compute server `hostname` on the A.I. DevCloud!\"\n",
    "echo \"* The current directory is ${PWD}.\"\n",
    "echo \"* Compute server's CPU model and number of logical CPUs:\"\n",
    "lscpu | grep 'Model name\\\\|^CPU(s)'\n",
    "echo \"* Python available to us:\"\n",
    "export PATH=/glob/intel-python/python3/bin:$PATH;\n",
    "which python\n",
    "python --version\n",
    "echo \"* This job trains the AML Classifier on the Colfax Cluster\"\n",
    "python Trainer.py\n",
    "sleep 10\n",
    "echo \"*Adios\"\n",
    "# Remember to have an empty line at the end of the file; otherwise the last command will not run\n"
   ]
  },
  {
   "cell_type": "markdown",
   "metadata": {},
   "source": [
    "# Check the training job script was created"
   ]
  },
  {
   "cell_type": "markdown",
   "metadata": {},
   "source": [
    "Now check that the trainer job script was created successfully by executing the following block which will print out the files located in the current directory. If all was successful, you should see the file \"AML-DevCloud-Trainer\". You can also open this file to confirm that the contents are correct."
   ]
  },
  {
   "cell_type": "code",
   "execution_count": 5,
   "metadata": {},
   "outputs": [
    {
     "name": "stdout",
     "output_type": "stream",
     "text": [
      "AML-DevCloud-Data        \u001b[0m\u001b[01;34mClasses\u001b[0m/       \u001b[01;34mMedia\u001b[0m/         Trainer.py\r\n",
      "AML-DevCloud-Data.e8390  Classifier.py  \u001b[01;34mModel\u001b[0m/\r\n",
      "AML-DevCloud-Data.o8390  Data.py        \u001b[01;34mRequired\u001b[0m/\r\n",
      "AML-DevCloud-Trainer     \u001b[01;34mLogs\u001b[0m/          Trainer.ipynb\r\n"
     ]
    }
   ],
   "source": [
    "%ls"
   ]
  },
  {
   "cell_type": "markdown",
   "metadata": {},
   "source": [
    "# Submit the training job script"
   ]
  },
  {
   "cell_type": "markdown",
   "metadata": {},
   "source": [
    "Now it is time to submit your training job script, this will queue the training script ready for execution and return your job ID. In this command we set the walltime to 24 hours, which should give our script enough time to fully complete without getting killed. "
   ]
  },
  {
   "cell_type": "code",
   "execution_count": 6,
   "metadata": {},
   "outputs": [
    {
     "name": "stdout",
     "output_type": "stream",
     "text": [
      "8392.c009\r\n"
     ]
    }
   ],
   "source": [
    "!qsub -l walltime=24:00:00 AML-DevCloud-Trainer"
   ]
  },
  {
   "cell_type": "markdown",
   "metadata": {},
   "source": [
    "# Check the status of the job"
   ]
  },
  {
   "cell_type": "code",
   "execution_count": 7,
   "metadata": {},
   "outputs": [
    {
     "name": "stdout",
     "output_type": "stream",
     "text": [
      "Job ID                    Name             User            Time Use S Queue\r\n",
      "------------------------- ---------------- --------------- -------- - -----\r\n",
      "8389.c009                  ...ub-singleuser u13339          00:00:09 R jupyterhub     \r\n",
      "8392.c009                  ...Cloud-Trainer u13339                 0 R batch          \r\n"
     ]
    }
   ],
   "source": [
    "!qstat"
   ]
  },
  {
   "cell_type": "markdown",
   "metadata": {},
   "source": [
    "## Get more details about the job"
   ]
  },
  {
   "cell_type": "code",
   "execution_count": 12,
   "metadata": {},
   "outputs": [
    {
     "name": "stdout",
     "output_type": "stream",
     "text": [
      "Job Id: 8392.c009\r\n",
      "    Job_Name = AML-DevCloud-Trainer\r\n",
      "    Job_Owner = u13339@c009-n003\r\n",
      "    resources_used.cput = 59:36:07\r\n",
      "    resources_used.energy_used = 0\r\n",
      "    resources_used.mem = 3457704kb\r\n",
      "    resources_used.vmem = 20151904kb\r\n",
      "    resources_used.walltime = 02:29:48\r\n",
      "    job_state = R\r\n",
      "    queue = batch\r\n",
      "    server = c009\r\n",
      "    Checkpoint = u\r\n",
      "    ctime = Sun Dec 23 08:39:03 2018\r\n",
      "    Error_Path = c009-n003:/home/u13339/AML-Classifier/AML-DevCloud-Trainer.e8\r\n",
      "\t392\r\n",
      "    exec_host = c009-n016/0-1\r\n",
      "    Hold_Types = n\r\n",
      "    Join_Path = n\r\n",
      "    Keep_Files = n\r\n",
      "    Mail_Points = n\r\n",
      "    mtime = Sun Dec 23 08:39:04 2018\r\n",
      "    Output_Path = c009-n003:/home/u13339/AML-Classifier/AML-DevCloud-Trainer.o\r\n",
      "\t8392\r\n",
      "    Priority = 0\r\n",
      "    qtime = Sun Dec 23 08:39:03 2018\r\n",
      "    Rerunable = True\r\n",
      "    Resource_List.nodect = 1\r\n",
      "    Resource_List.nodes = 1:ppn=2\r\n",
      "    Resource_List.walltime = 24:00:00\r\n",
      "    session_id = 196175\r\n",
      "    Variable_List = PBS_O_QUEUE=batch,PBS_O_HOME=/home/u13339,\r\n",
      "\tPBS_O_LOGNAME=u13339,\r\n",
      "\tPBS_O_PATH=/glob/intel-python/python3/bin/:/glob/intel-python/python3\r\n",
      "\t/bin/:/glob/intel-python/python2/bin/:/glob/development-tools/versions\r\n",
      "\t/intel-parallel-studio-2018-update3/compilers_and_libraries_2018.3.222\r\n",
      "\t/linux/bin/intel64:/glob/development-tools/versions/intel-parallel-stu\r\n",
      "\tdio-2018-update3/compilers_and_libraries_2018.3.222/linux/mpi/intel64/\r\n",
      "\tbin:/glob/intel-python/python3/bin/:/glob/intel-python/python2/bin/:/g\r\n",
      "\tlob/development-tools/versions/intel-parallel-studio-2018-update3/comp\r\n",
      "\tilers_and_libraries_2018.3.222/linux/bin/intel64:/glob/development-too\r\n",
      "\tls/versions/intel-parallel-studio-2018-update3/compilers_and_libraries\r\n",
      "\t_2018.3.222/linux/mpi/intel64/bin:/usr/local/sbin:/usr/local/bin:/usr/\r\n",
      "\tsbin:/usr/bin:/home/u13339/.local/bin:/home/u13339/bin:/home/u13339/.l\r\n",
      "\tocal/bin:/home/u13339/bin:/usr/local/bin:/bin,\r\n",
      "\tPBS_O_MAIL=/var/spool/mail/u13339,PBS_O_SHELL=/bin/bash,\r\n",
      "\tPBS_O_LANG=en_US.UTF-8,\r\n",
      "\tPBS_O_SUBMIT_FILTER=/usr/local/sbin/torque_submitfilter,\r\n",
      "\tPBS_O_WORKDIR=/home/u13339/AML-Classifier,PBS_O_HOST=c009-n003,\r\n",
      "\tPBS_O_SERVER=c009\r\n",
      "    euser = u13339\r\n",
      "    egroup = u13339\r\n",
      "    queue_type = E\r\n",
      "    etime = Sun Dec 23 08:39:03 2018\r\n",
      "    submit_args = -l walltime=24:00:00 AML-DevCloud-Trainer\r\n",
      "    start_time = Sun Dec 23 08:39:04 2018\r\n",
      "    Walltime.Remaining = 77370\r\n",
      "    start_count = 1\r\n",
      "    fault_tolerant = False\r\n",
      "    job_radix = 0\r\n",
      "    submit_host = c009-n003\r\n",
      "\r\n"
     ]
    }
   ],
   "source": [
    "!qstat -f 8392"
   ]
  },
  {
   "cell_type": "markdown",
   "metadata": {},
   "source": [
    "# Check the results\n",
    "After training we should check the resuts of the output to see how our model did during training. In my case the job ID was 8392 so my output files were .e8392 for errors, and .o8339 for program output.\n",
    "\n",
    "In my case I trained the network with 580 AML negative and 580 AML positive examples using the augmented dataset created in the previous tutorial, saving 20 of the original images for testing. The following is the end of the output from the training job:\n",
    "\n",
    "```\n",
    "INFO:tensorflow:Final Loss: 0.76919967\n",
    "INFO:tensorflow:Final Accuracy: 0.9136111\n",
    "INFO:tensorflow:Finished training! Saving model to disk now.\n",
    "INFO:tensorflow:Restoring parameters from Model/_logs/model.ckpt-3181\n",
    "INFO:tensorflow:Froze 378 variables.\n",
    "```\n",
    "\n",
    "The output shows that I have an overall training accuracy of 0.9136111.\n",
    "\n",
    "# Test the classifier\n",
    "![Testing the AML Classifier on test set](Media/Images/testing.png)\n",
    "\n",
    "Now you need to download the created graph file to your NCS development machine. You need to have the full API installed opposed to the API. \n",
    "\n",
    "Once you have the graph on your NCS dev machine move it to your __Model__ directory and then you can issue the following command to generate a graph that is compatible with the NCS and save it to __Model/AML.graph__. \n",
    "\n",
    "```\n",
    "mvNCCompile Model/AMLGraph.pb -in=input -on=InceptionV3/Predictions/Softmax -o Model/AML.graph\n",
    "```\n",
    "\n",
    "Now you are able to test the classifier using the classification program and the test dataset you set aside earlier. Navigate to the __AML-Classifiers/Python/_Movidius__ directory and issue the following command:\n",
    "\n",
    "```\n",
    " $ python3 Classifier.py InceptionTest\n",
    "```\n",
    "\n",
    "The classifier will loop through the images in your test dataset classifying them as AML positive or negative."
   ]
  },
  {
   "cell_type": "markdown",
   "metadata": {},
   "source": [
    "# References\n",
    "\n",
    "1. [Acute Myeloid Leukemia (AML)](https://www.cancer.org/cancer/acute-myeloid-leukemia.html)\n",
    "2. [Can Acute Myeloid Leukemia (AML) Be Found Early?](https://www.cancer.org/cancer/acute-myeloid-leukemia/detection-diagnosis-staging/detection.html)\n",
    "3. [Peter Moss Acute Myeloid Leukemia Research Movidius Classifier](https://github.com/AMLResearchProject/AML-Classifiers/tree/master/Python/_Movidius)\n",
    "4. [Peter Moss Acute Myeloid Leukemia Research Project](https://www.facebook.com/AMLResearchProject)\n",
    "5. [Peter Moss Acute Myeloid Leukemia Computer Vision Research and Development](https://github.com/AMLResearchProject/AML-Classifiers)\n",
    "6. [Key Statistics for Acute Myeloid Leukemia (AML)](https://www.cancer.org/cancer/acute-myeloid-leukemia/about/key-statistics.html)\n",
    "7. [Machine Learning and Mammography](https://software.intel.com/en-us/articles/machine-learning-and-mammography#inpage-nav-3)\n",
    "8. [Tensorflow](https://www.tensorflow.org/)\n",
    "9. [Acute Lymphoblastic Leukemia Image Database for Image Processing](https://homes.di.unimi.it/scotti/all/)\n",
    "10. [Intel® AI DevCloud](https://software.intel.com/en-us/ai-academy/devcloud)\n",
    "11. [NCSDK](https://github.com/movidius/ncsdk)"
   ]
  },
  {
   "cell_type": "markdown",
   "metadata": {},
   "source": [
    "# About the author\n",
    "Adam is a [Bigfinite](https://www.bigfinite.com \"Bigfinite\") IoT Network Engineer, part of the team that works on the core IoT software. In his spare time he is an [Intel Software Innovator](https://software.intel.com/en-us/intel-software-innovators/overview \"Intel Software Innovator\") in the fields of Internet of Things, Artificial Intelligence and Virtual Reality.\n",
    "\n",
    "[![Adam Milton-Barker: BigFinte IoT Network Engineer & Intel® Software Innovator](../../Media/Images/Adam-Milton-Barker.jpg)](https://github.com/AdamMiltonBarker)"
   ]
  }
 ],
 "metadata": {
  "kernelspec": {
   "display_name": "Python 3 (Intel, 2018 update 2)",
   "language": "python",
   "name": "c009-intel_distribution_of_python_3_2018u2"
  },
  "language_info": {
   "codemirror_mode": {
    "name": "ipython",
    "version": 3
   },
   "file_extension": ".py",
   "mimetype": "text/x-python",
   "name": "python",
   "nbconvert_exporter": "python",
   "pygments_lexer": "ipython3",
   "version": "3.6.3"
  }
 },
 "nbformat": 4,
 "nbformat_minor": 2
}
